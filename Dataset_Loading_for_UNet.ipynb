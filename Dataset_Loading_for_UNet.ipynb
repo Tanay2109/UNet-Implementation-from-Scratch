{
  "nbformat": 4,
  "nbformat_minor": 0,
  "metadata": {
    "colab": {
      "provenance": [],
      "authorship_tag": "ABX9TyMvDX/RYSyBf2PbLECwfVL6",
      "include_colab_link": true
    },
    "kernelspec": {
      "name": "python3",
      "display_name": "Python 3"
    },
    "language_info": {
      "name": "python"
    }
  },
  "cells": [
    {
      "cell_type": "markdown",
      "metadata": {
        "id": "view-in-github",
        "colab_type": "text"
      },
      "source": [
        "<a href=\"https://colab.research.google.com/github/Tanay2109/UNet-Implementation-from-Scratch/blob/main/Dataset_Loading_for_UNet.ipynb\" target=\"_parent\"><img src=\"https://colab.research.google.com/assets/colab-badge.svg\" alt=\"Open In Colab\"/></a>"
      ]
    },
    {
      "cell_type": "code",
      "execution_count": 1,
      "metadata": {
        "id": "ch7Kc0jrZ9HR"
      },
      "outputs": [],
      "source": [
        "import os\n",
        "from PIL import Image\n",
        "from torch.utils.data import Dataset\n",
        "import numpy as np"
      ]
    },
    {
      "cell_type": "code",
      "source": [
        "class CarvanaDataset(Dataset):\n",
        "  def __init__(self, image_dir, mask_dir, transform= None):\n",
        "    self.image_dir= image_dir\n",
        "    self.mask_dir= mask_dir\n",
        "    self.transform= transform\n",
        "    self.images= os.listdir(image_dir)\n",
        "\n",
        "  def __len__(self):\n",
        "    return len(self.image)\n",
        "\n",
        "  def __getitem__(self,index):\n",
        "    img_path= os.path.join(self.image_dir, self.images[index])\n",
        "    mask_path= os.path.join(self.mask_dir, self.images[index].replace(\".jpg\", \"_mask.gif\"))\n",
        "    image= np.array(Image.open(img_path).convert(\"RGB\"))\n",
        "    mask= np.array(Image.open(mask_path).convert(\"L\"), dtype= np.float32)\n",
        "\n",
        "    mask[mask==255.0]= 1.0\n",
        "\n",
        "    if self.transform is not None:\n",
        "      augmentations= self.transform(image=image, mask=mask)\n",
        "      image= augmentations[\"image\"]\n",
        "      mask= augmentations[\"mask\"]\n",
        "\n",
        "    return image, mask"
      ],
      "metadata": {
        "id": "0qC9MsHnaB5e"
      },
      "execution_count": 2,
      "outputs": []
    },
    {
      "cell_type": "code",
      "source": [],
      "metadata": {
        "id": "IMfnCiPiaFLP"
      },
      "execution_count": null,
      "outputs": []
    }
  ]
}