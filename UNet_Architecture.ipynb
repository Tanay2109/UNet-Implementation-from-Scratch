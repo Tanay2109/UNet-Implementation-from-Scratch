{
  "nbformat": 4,
  "nbformat_minor": 0,
  "metadata": {
    "colab": {
      "provenance": [],
      "authorship_tag": "ABX9TyP8aX/GiQTOg9fRe53k4WHY",
      "include_colab_link": true
    },
    "kernelspec": {
      "name": "python3",
      "display_name": "Python 3"
    },
    "language_info": {
      "name": "python"
    }
  },
  "cells": [
    {
      "cell_type": "markdown",
      "metadata": {
        "id": "view-in-github",
        "colab_type": "text"
      },
      "source": [
        "<a href=\"https://colab.research.google.com/github/Tanay2109/UNet-Implementation-from-Scratch/blob/main/UNet_Architecture.ipynb\" target=\"_parent\"><img src=\"https://colab.research.google.com/assets/colab-badge.svg\" alt=\"Open In Colab\"/></a>"
      ]
    },
    {
      "cell_type": "code",
      "execution_count": 2,
      "metadata": {
        "id": "D1N70Czb7sK8"
      },
      "outputs": [],
      "source": [
        "import torch\n",
        "import torch.nn as nn\n",
        "import torchvision.transforms.functional as TF"
      ]
    },
    {
      "cell_type": "markdown",
      "source": [
        "Defining Double Convolution function"
      ],
      "metadata": {
        "id": "4czQqyXN922G"
      }
    },
    {
      "cell_type": "code",
      "source": [
        "class DoubleConv(nn.Module):\n",
        "  def __init__(self, in_channels, out_channels):\n",
        "    super(DoubleConv, self).__init__()\n",
        "    self.conv= nn.Sequential(\n",
        "        nn.Conv2d(in_channels, out_channels, 3, 1, 1, bias=False),\n",
        "        nn.BatchNorm2d(out_channels),\n",
        "        nn.ReLU(inplace=True),\n",
        "        nn.Conv2d(out_channels, out_channels, 3, 1, 1, bias=False),\n",
        "        nn.BatchNorm2d(out_channels),\n",
        "        nn.ReLU(inplace=True)\n",
        "    )\n",
        "\n",
        "  def forward(self,x):\n",
        "    return self.conv(x)"
      ],
      "metadata": {
        "id": "cn2JvX1I8TIB"
      },
      "execution_count": 7,
      "outputs": []
    },
    {
      "cell_type": "markdown",
      "source": [
        "Defining UNet Architecture"
      ],
      "metadata": {
        "id": "1s0rQ88X-T1U"
      }
    },
    {
      "cell_type": "code",
      "source": [
        "class UNET(nn.Module):\n",
        "  def __init__(\n",
        "      self, in_channels=3, out_channels=1, features=[64, 128, 256, 512],):\n",
        "    super(UNET,self).__init__()\n",
        "    self.ups=nn.ModuleList()\n",
        "    self.downs=nn.ModuleList()\n",
        "    self.pool=nn.MaxPool2d(kernel_size=2, stride=2)\n",
        "\n",
        "    # Down Part for UNet\n",
        "\n",
        "    for feature in features:\n",
        "      self.downs.append(DoubleConv(in_channels, feature))\n",
        "      in_channels=feature\n",
        "\n",
        "    # Up part for UNet\n",
        "\n",
        "    for feature in reversed(features):\n",
        "      self.ups.append(\n",
        "          nn.ConvTranspose2d(\n",
        "              feature*2, feature, kernel_size=2, stride=2,\n",
        "          )\n",
        "      )\n",
        "      self.ups.append(DoubleConv(feature*2, feature))\n",
        "\n",
        "    # For bottom-most layer of UNet\n",
        "\n",
        "    self.bottleneck= DoubleConv(features[-1],features[-1]*2)\n",
        "    self.final_conv= nn.Conv2d(features[0], out_channels, kernel_size=1)\n",
        "\n",
        "  # Transitions between layers and skip connections\n",
        "\n",
        "  def forward(self,x):\n",
        "    skip_connections=[]\n",
        "    for down in self.downs:\n",
        "      x=down(x)\n",
        "      skip_connections.append(x)\n",
        "      x=self.pool(x)\n",
        "\n",
        "    x= self.bottleneck(x)\n",
        "    skip_connections= skip_connections[::-1]\n",
        "\n",
        "    for idx in range(0, len(self.ups),2):\n",
        "      x=self.ups[idx](x)\n",
        "      skip_connection= skip_connections[idx//2]\n",
        "      if x.shape != skip_connection.shape:\n",
        "        x=TF.resize(x,size=skip_connection.shape[2:])\n",
        "      concat_skip= torch.cat((skip_connection, x), dim=1)\n",
        "      x=self.ups[idx+1](concat_skip)\n",
        "\n",
        "    return self.final_conv(x)"
      ],
      "metadata": {
        "id": "NuISyujx9nG3"
      },
      "execution_count": 23,
      "outputs": []
    },
    {
      "cell_type": "markdown",
      "source": [
        "Testing the architecture"
      ],
      "metadata": {
        "id": "-izNyH6PEsAA"
      }
    },
    {
      "cell_type": "code",
      "source": [
        "def test():\n",
        "    x= torch.randn((3,1,161,161))\n",
        "    model=UNET(in_channels=1, out_channels=1)\n",
        "    preds=model(x)\n",
        "    print(preds.shape)\n",
        "    print(x.shape)\n",
        "    assert preds.shape== x.shape\n",
        "\n",
        "if __name__== \"__main__\":\n",
        "  test()"
      ],
      "metadata": {
        "colab": {
          "base_uri": "https://localhost:8080/"
        },
        "id": "1Acf7x4zC4Sr",
        "outputId": "2c86a906-56a0-438a-a1f6-a00a6c59ef51"
      },
      "execution_count": 26,
      "outputs": [
        {
          "output_type": "stream",
          "name": "stdout",
          "text": [
            "torch.Size([3, 1, 161, 161])\n",
            "torch.Size([3, 1, 161, 161])\n"
          ]
        }
      ]
    },
    {
      "cell_type": "code",
      "source": [],
      "metadata": {
        "id": "y014rRNqEn4h"
      },
      "execution_count": null,
      "outputs": []
    }
  ]
}